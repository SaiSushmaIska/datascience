{
 "cells": [
  {
   "cell_type": "code",
   "execution_count": 1,
   "id": "58979041-95a9-4d71-b81d-3aaf787dfcb6",
   "metadata": {},
   "outputs": [],
   "source": [
    "from matplotlib import pyplot as plt\n",
    "from sklearn.metrics import confusion_matrix, classification_report\n",
    "import pandas as pd"
   ]
  },
  {
   "cell_type": "code",
   "execution_count": null,
   "id": "b34f3ca6-7c71-426e-a6f1-bbf46f4e9aee",
   "metadata": {},
   "outputs": [],
   "source": [
    "#true positive------- true meansreality & positive means predictions for positive class--how many correctly predicted\n",
    "#false positive------ how many wrongly predicted\n",
    "#true positive\n",
    "#true negative"
   ]
  },
  {
   "cell_type": "code",
   "execution_count": 2,
   "id": "7ce4c924-4727-4a76-8d9c-0a9ddf05ec5d",
   "metadata": {},
   "outputs": [],
   "source": [
    "truth =      [\"Dog\",\"Not a dog\",\"Dog\",\"Dog\",    \"Dog\",\"Not a dog\",\"Not a dog\",\"Dog\",    \"Dog\",\"Not a dog\"]\n",
    "prediction = [\"Dog\",\"Dog\",      \"Dog\",\"Not a dog\",\"Dog\",\"Not a dog\",\"Dog\",    \"Not a dog\",\"Dog\",\"Dog\"]"
   ]
  },
  {
   "cell_type": "code",
   "execution_count": 3,
   "id": "d3f30e63-e9e5-4766-83e4-7564972573f4",
   "metadata": {},
   "outputs": [
    {
     "data": {
      "text/plain": [
       "array([[4, 2],\n",
       "       [3, 1]], dtype=int64)"
      ]
     },
     "execution_count": 3,
     "metadata": {},
     "output_type": "execute_result"
    }
   ],
   "source": [
    "cm = confusion_matrix(truth,prediction)\n",
    "cm"
   ]
  },
  {
   "cell_type": "code",
   "execution_count": 4,
   "id": "914ed84f-3e23-4465-913d-e2dc6fbd9ea7",
   "metadata": {},
   "outputs": [
    {
     "name": "stdout",
     "output_type": "stream",
     "text": [
      "              precision    recall  f1-score   support\n",
      "\n",
      "         Dog       0.57      0.67      0.62         6\n",
      "   Not a dog       0.33      0.25      0.29         4\n",
      "\n",
      "    accuracy                           0.50        10\n",
      "   macro avg       0.45      0.46      0.45        10\n",
      "weighted avg       0.48      0.50      0.48        10\n",
      "\n"
     ]
    }
   ],
   "source": [
    "#precision is out of all dog predictions how many you got it right\n",
    "#recall is out of all dog truth how many you got it right\n",
    "\n",
    "print(classification_report(truth,prediction))"
   ]
  },
  {
   "cell_type": "code",
   "execution_count": 5,
   "id": "7b92f5f5-5a39-4551-aa48-7f3e44324859",
   "metadata": {},
   "outputs": [
    {
     "data": {
      "text/plain": [
       "0.6159677419354839"
      ]
     },
     "execution_count": 5,
     "metadata": {},
     "output_type": "execute_result"
    }
   ],
   "source": [
    "#fl score for dog class\n",
    "2*(0.57*0.67/(0.57+0.67))"
   ]
  },
  {
   "cell_type": "code",
   "execution_count": 6,
   "id": "9f111530-c4d2-4fb1-abe7-ce815f437fad",
   "metadata": {},
   "outputs": [
    {
     "data": {
      "text/plain": [
       "0.2844827586206896"
      ]
     },
     "execution_count": 6,
     "metadata": {},
     "output_type": "execute_result"
    }
   ],
   "source": [
    "#fl score for not a dog\n",
    "2*(0.33*0.25/(0.33+0.25))"
   ]
  }
 ],
 "metadata": {
  "kernelspec": {
   "display_name": "Python 3 (ipykernel)",
   "language": "python",
   "name": "python3"
  },
  "language_info": {
   "codemirror_mode": {
    "name": "ipython",
    "version": 3
   },
   "file_extension": ".py",
   "mimetype": "text/x-python",
   "name": "python",
   "nbconvert_exporter": "python",
   "pygments_lexer": "ipython3",
   "version": "3.12.7"
  }
 },
 "nbformat": 4,
 "nbformat_minor": 5
}
